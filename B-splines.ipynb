{
 "cells": [
  {
   "cell_type": "code",
   "execution_count": 2,
   "metadata": {},
   "outputs": [
    {
     "data": {
      "image/png": "[encoded data removed]",
      "text/plain": [
       "<Figure size 432x288 with 1 Axes>"
      ]
     },
     "metadata": {},
     "output_type": "display_data"
    }
   ],
   "source": [
    "import numpy as np\n",
    "import matplotlib.pyplot as plt\n",
    "\n",
    "p = 3 #order of the polynomial\n",
    "\n",
    "n = 5 #number of basis vector\n",
    "\n",
    "knot_Vect = np.array([0,0,0,0,0.5,1,1,1,1])\n",
    "\n",
    "control_pts = np.array([(0,0),(0.2,1),(0.6,0.5),(0.8,1),(1,0)])\n",
    "\n",
    "def knot_span(knot_Vect):\n",
    "    k_span = [knot_Vect[0]]\n",
    "    k_idx = []\n",
    "    for i in range(len(knot_Vect)-1):\n",
    "        if knot_Vect[i] != knot_Vect[i+1]:\n",
    "            k_span.append(knot_Vect[i+1])\n",
    "            k_idx.append(i) \n",
    "    \n",
    "    return k_span, k_idx\n",
    "\n",
    "def deBoorAlgo(k, zeta, knot_Vect, control_pts, p):\n",
    "    \"\"\"\n",
    "    k : index of knot interval that has x\n",
    "    zeta : parametric variable\n",
    "    knot_Vect : knot vector\n",
    "    control_pts : control points\n",
    "    p : degree of p splines\n",
    "    \n",
    "    \"\"\"\n",
    "    \n",
    "    d = [control_pts[j+k-p] for j in range(0,p+1)]\n",
    "    for r in range(1, p+1):\n",
    "        for j in range(p, r-1, -1):\n",
    "            alpha = (zeta - knot_Vect[j+k-p]) / (knot_Vect[j+1+k-r] - knot_Vect[j+k-p])\n",
    "            d[j] = (1.0 - alpha) * d[j-1] + alpha * d[j]\n",
    "    \n",
    "    return d[p]\n",
    "    \n",
    "k_span, k_idx = knot_span(knot_Vect)\n",
    "\n",
    "zeta = np.linspace(0,1,100)\n",
    "\n",
    "Curve = []\n",
    "\n",
    "for i in range(len(zeta)):\n",
    "    for j in range(len(k_span)-1):\n",
    "        if zeta[i] < k_span[j+1]:\n",
    "            k = k_idx[j]\n",
    "            break\n",
    "    S = deBoorAlgo(k, zeta[i], knot_Vect, control_pts, p)\n",
    "    Curve.append(S)\n",
    "\n",
    "\n",
    "x = []\n",
    "y = []\n",
    "\n",
    "cx = []\n",
    "cy = []\n",
    "\n",
    "for i in range(len(Curve)):\n",
    "    x.append(Curve[i][0])\n",
    "    y.append(Curve[i][1])\n",
    "\n",
    "for i in range(len(control_pts)):\n",
    "    cx.append(control_pts[i][0])\n",
    "    cy.append(control_pts[i][1])\n",
    "\n",
    "\n",
    "plt.plot(x,y)\n",
    "plt.plot(cx,cy, marker='o')\n",
    "\n",
    "plt.show()\n"
   ]
  },
  {
   "cell_type": "code",
   "execution_count": null,
   "metadata": {},
   "outputs": [],
   "source": []
  }
 ],
 "metadata": {
  "kernelspec": {
   "display_name": "Python 3",
   "language": "python",
   "name": "python3"
  },
  "language_info": {
   "codemirror_mode": {
    "name": "ipython",
    "version": 3
   },
   "file_extension": ".py",
   "mimetype": "text/x-python",
   "name": "python",
   "nbconvert_exporter": "python",
   "pygments_lexer": "ipython3",
   "version": "3.6.6"
  }
 },
 "nbformat": 4,
 "nbformat_minor": 2
}
