{
 "cells": [
  {
   "cell_type": "code",
   "execution_count": 1,
   "metadata": {},
   "outputs": [],
   "source": [
    "#importing the required libraries for python\n",
    "\n",
    "import numpy as np\n",
    "import matplotlib.pyplot as plt\n"
   ]
  },
  {
   "cell_type": "code",
   "execution_count": 41,
   "metadata": {},
   "outputs": [],
   "source": [
    "\n",
    "def Rotation(theta, X):\n",
    "    import math\n",
    "    rad = theta*math.pi/180\n",
    "    R = np.array([[math.cos(rad),0,-math.sin(rad)],\n",
    "                  [0,1,0],\n",
    "                  [math.sin(rad), 0, math.cos(rad)]])\n",
    "    X_n = np.zeros(X.shape)\n",
    "    for i in range(X.shape[0]):\n",
    "        X_n[i] = R.dot(X[i])\n",
    "    return X_n\n"
   ]
  },
  {
   "cell_type": "code",
   "execution_count": 42,
   "metadata": {},
   "outputs": [],
   "source": [
    "#Settingg up parameters for NURBS surface\n",
    "\n",
    "#Order of NURBS basis\n",
    "p = 2\n",
    "q = 1\n",
    "r = 4\n",
    "\n",
    "#Number of Basis function for NURBS\n",
    "n = 3\n",
    "m = 2\n",
    "l = 9"
   ]
  },
  {
   "cell_type": "code",
   "execution_count": 43,
   "metadata": {},
   "outputs": [],
   "source": [
    "#Defining the knot Vectot for NURBS function\n",
    "\n",
    "Xi = np.array([0,0,0,1,1,1])\n",
    "Eta = np.array([0,0,1,1])\n",
    "Zeta = np.array([0,0,0,0,0,0.2,0.4,0.6,0.8,1,1,1,1,1])\n"
   ]
  },
  {
   "cell_type": "code",
   "execution_count": 44,
   "metadata": {},
   "outputs": [],
   "source": [
    "#Control points array and weights \n",
    "\n",
    "Mod1 = np.array([[0,-20,0.5],[0,-20,0.5],[0,-20,0.5],[0,-20,0.5],[0,-20,0.5],[0,-20,0.5],[0,-20,0.5],[0,-20,0.5],[0,-20,0.5],\n",
    "                    [-3,-20,0],[-3,-20,1],[0,-20,1],[3,-20,1],[3,-20,0],[3,-20,-1],[0,-20,0],[-3,-20,-1],[-3,-20,0]])\n",
    "\n",
    "Mod2 = np.array([[0,0,0.5],[0,0,0.5],[0,0,0.5],[0,0,0.5],[0,0,0.5],[0,0,0.5],[0,0,0.5],[0,0,0.5],[0,0,0.5],\n",
    "                [-3.75,0,0],[-3.75,0,1.25],[0,0,1.25],[3.75,0,1.25],[3.75,0,0],[3.75,0,-1.25],[0,0,0],[-3.75,0,-1.25],[-3.75,0,0]])\n",
    "\n",
    "Mod3 = np.array([[0,20,0.5],[0,20,0.5],[0,20,0.5],[0,20,0.5],[0,20,0.5],[0,20,0.5],[0,20,0.5],[0,20,0.5],[0,20,0.5],\n",
    "             [-2.25,20,0],[-2.25,20,0.75],[0,20,0.75],[2.25,20,0.75],[2.25,20,0],[2.25,20,-0.75],[0,20,0],[-2.25,20,-0.75],[-2.25,20,0]])\n",
    "\n",
    "ctrlpts = np.append(Mod1, Rotation(5,Mod2),axis=0)\n",
    "ctrlpts = np.append(ctrlpts,Rotation(10,Mod3),axis=0)\n",
    "\n",
    "w = np.array([1,0.75,1,0.75,1,1,5,1,1,\n",
    "              1,0.75,1,0.75,1,1,5,1,1,\n",
    "              1,0.75,1,0.75,1,1,5,1,1,\n",
    "              1,0.75,1,0.75,1,1,5,1,1,\n",
    "              1,0.75,1,0.75,1,1,5,1,1,\n",
    "              1,0.75,1,0.75,1,1,5,1,1])\n"
   ]
  },
  {
   "cell_type": "code",
   "execution_count": 5,
   "metadata": {},
   "outputs": [
    {
     "name": "stdout",
     "output_type": "stream",
     "text": [
      "1\n",
      "2\n"
     ]
    }
   ],
   "source": [
    "#finding the total number of elements\n",
    "\n",
    "def NumOfEle(Xi):\n",
    "    n = 0\n",
    "    for i in range((len(Xi)-1)):\n",
    "        if Xi[i] != Xi[i+1]:\n",
    "            n = n+1\n",
    "    return n\n",
    "\n",
    "print(NumOfEle(Xi))\n",
    "print(NumOfEle(Eta))"
   ]
  },
  {
   "cell_type": "code",
   "execution_count": 45,
   "metadata": {},
   "outputs": [],
   "source": [
    "#Converting the local indexing to the global indexing\n",
    "\n",
    "def IEN2D(i,j,m):\n",
    "    return (m*(i-1) + j)\n",
    "\n",
    "def IEN3D(i,j,k,l,m):\n",
    "    return ((l*m)*(i-1)+l*(j-1)+k)"
   ]
  },
  {
   "cell_type": "code",
   "execution_count": 56,
   "metadata": {},
   "outputs": [],
   "source": [
    "#Finding the basis functions for the NURBS\n",
    "\n",
    "def coxDeBoor(zeta, i, d, knot_vect):\n",
    "    '''\n",
    "    zeta - value of the point we need to find\n",
    "    i - i'th basis function\n",
    "    d - order of basis function\n",
    "    knot_vect - knot vector for NURBS    \n",
    "    '''\n",
    "    if d==0:\n",
    "        if knot_vect[i] <= zeta and zeta <= knot_vect[i+1]:\n",
    "            return 1\n",
    "        return 0\n",
    "    \n",
    "    D1 = knot_vect[i+d] - knot_vect[i]\n",
    "    D2 = knot_vect[i+d+1] - knot_vect[i+1]\n",
    "    \n",
    "    E1 = 0\n",
    "    E2 = 0\n",
    "    \n",
    "    if D1 > 0:\n",
    "        E1 = (zeta - knot_vect[i])/D1 * coxDeBoor(zeta, i, d-1, knot_vect)\n",
    "    \n",
    "    if D2 > 0:\n",
    "        E2 = (knot_vect[i+d+1] - zeta)/D2 * coxDeBoor(zeta, i+1, d-1, knot_vect)\n",
    "        \n",
    "    return E1+E2\n"
   ]
  },
  {
   "cell_type": "code",
   "execution_count": 57,
   "metadata": {},
   "outputs": [],
   "source": [
    "#Computing the Beizer extraction operator 'C' for different elements\n",
    "\n",
    "Xi = [0,0,0,0,1,2,3,4,4,4,4]\n",
    "\n",
    "p = 3\n",
    "\n",
    "def Beizer_extraction(U, p):\n",
    "    a = p+1\n",
    "    o = p+1\n",
    "    b = a+1\n",
    "    nb = 0\n",
    "    C = np.zeros((NumOfEle(U),o,o))\n",
    "    C[0] = np.identity(o)\n",
    "    \n",
    "    while b < len(U) and nb < (NumOfEle(U) - 1):\n",
    "        C[nb+1] = np.identity(o)\n",
    "        i = b\n",
    "        mult = 1\n",
    "        #Counting the multiplicity of the knot at location b\n",
    "        while b<len(U) and (U[b] == U[b-1]):\n",
    "            b = b+1\n",
    "            mult = b-i+1\n",
    "        \n",
    "        if mult < p:\n",
    "            numerator = U[b-1] - U[a-1]\n",
    "            alphas = np.zeros((1,p-mult))\n",
    "            for j in range(p,mult,-1):\n",
    "                alphas[0,j-mult-1] = numerator/(U[a+j-1]-U[a-1])\n",
    "            r = p - mult\n",
    "            for j in range(1,r+1):\n",
    "                save = r-j+1\n",
    "                s = mult+j\n",
    "                for k in range(p+1,s,-1):\n",
    "                    alpha = alphas[0,k-s-1]\n",
    "                    C[nb,:,k-1] = alpha*C[nb,:,k-1] + (1-alpha)*C[nb,:,k-2]\n",
    "\n",
    "                if b < len(U):\n",
    "                    C[nb+1,save-1:j+save,save-1] = C[nb, p-j:p+1, p]\n",
    "        \n",
    "        nb = nb+1  \n",
    "        if b < len(U):\n",
    "            a = b\n",
    "            b = b+1\n",
    "            \n",
    "    return C\n",
    "\n"
   ]
  },
  {
   "cell_type": "code",
   "execution_count": 3,
   "metadata": {},
   "outputs": [],
   "source": [
    "def Bernstein_basis(a, p, xi):\n",
    "    if a == 1 and p == 0:\n",
    "        return 1\n",
    "    if (a < 1) or (a > p+1):\n",
    "        return 0\n",
    "    \n",
    "    b = (1 - xi)*Bernstein_basis(a, p-1, xi) + xi*Bernstein_basis(a-1, p-1, xi)\n",
    "    \n",
    "    return b\n"
   ]
  },
  {
   "cell_type": "code",
   "execution_count": null,
   "metadata": {},
   "outputs": [],
   "source": [
    "def derivative_Bernstein(a, p, xi):\n",
    "    return a*(Bernstein_basis(a-1, p-1, xi) - Bernstein_basis(a-1, p-1, xi))\n"
   ]
  },
  {
   "cell_type": "code",
   "execution_count": null,
   "metadata": {},
   "outputs": [],
   "source": []
  },
  {
   "cell_type": "code",
   "execution_count": 58,
   "metadata": {},
   "outputs": [],
   "source": [
    "def BasisFunction(xi, eta, zeta):\n",
    "    N = np.zeros(l*m*n)\n",
    "    Tot_weight = 0\n",
    "    for i in range(n):\n",
    "        for j in range(m):\n",
    "            for k in range(l):\n",
    "                N[IEN3D(i,j,k,l,m)] = coxDeBoor(xi, i, p, Xi)*coxDeBoor(eta, j, q, Eta)*coxDeBoor(zeta, k, r, Zeta)*w[IEN3D(i,j,k,l,m)]\n",
    "                Tot_weight = Tot_weight + N[IEN3D(i,j,k,l,m)\n",
    "    \n",
    "    return (N/Tot_weight)\n",
    "\n"
   ]
  },
  {
   "cell_type": "code",
   "execution_count": null,
   "metadata": {},
   "outputs": [],
   "source": [
    "def Bezier_Basis(zeta, a, p):\n",
    "    if p = 0 and a = 1:\n",
    "        return 1\n",
    "    if a<1 or a>p+1:\n",
    "        return 0\n",
    "    \n",
    "    r = (1-zeta)*Bezier_Basis(zeta,a,p-1) + zeta*Bezier_Basis(zeta,a-1,p-1)\n",
    "    \n",
    "    return r    "
   ]
  },
  {
   "cell_type": "code",
   "execution_count": null,
   "metadata": {},
   "outputs": [],
   "source": [
    "def knot_insertion(U, knot, ctrlpts):\n",
    "    U_n = U.append(knot)\n",
    "    U_n = sorted(U_n)\n",
    "    for i in range(len(knot_Vect)-1):\n",
    "        if knot_Vect[i]<=k and k < knot_Vect[i+1]:\n",
    "            k = i \n",
    "    ctrlpts_n = \n"
   ]
  }
 ],
 "metadata": {
  "kernelspec": {
   "display_name": "Python 3",
   "language": "python",
   "name": "python3"
  },
  "language_info": {
   "codemirror_mode": {
    "name": "ipython",
    "version": 3
   },
   "file_extension": ".py",
   "mimetype": "text/x-python",
   "name": "python",
   "nbconvert_exporter": "python",
   "pygments_lexer": "ipython3",
   "version": "3.6.5"
  }
 },
 "nbformat": 4,
 "nbformat_minor": 2
}
